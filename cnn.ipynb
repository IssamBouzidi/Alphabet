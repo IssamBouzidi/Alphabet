{
 "metadata": {
  "language_info": {
   "codemirror_mode": {
    "name": "ipython",
    "version": 3
   },
   "file_extension": ".py",
   "mimetype": "text/x-python",
   "name": "python",
   "nbconvert_exporter": "python",
   "pygments_lexer": "ipython3",
   "version": "3.7.9-final"
  },
  "orig_nbformat": 2,
  "kernelspec": {
   "name": "python3",
   "display_name": "Python 3"
  }
 },
 "nbformat": 4,
 "nbformat_minor": 2,
 "cells": [
  {
   "cell_type": "code",
   "execution_count": null,
   "metadata": {},
   "outputs": [],
   "source": [
    "import numpy as np\n",
    "# import matplotlib.pyplot as plt\n",
    "import keras\n",
    "from keras.preprocessing.image import ImageDataGenerator\n",
    "from keras.preprocessing import image\n",
    "from keras.models import Sequential\n",
    "from keras.layers import Conv2D, MaxPooling2D, Flatten, Dense, Activation, Dropout\n",
    "import os\n",
    "import pickle"
   ]
  },
  {
   "cell_type": "code",
   "execution_count": null,
   "metadata": {},
   "outputs": [],
   "source": [
    "model = Sequential()"
   ]
  },
  {
   "cell_type": "code",
   "execution_count": null,
   "metadata": {},
   "outputs": [],
   "source": [
    "model.add(Conv2D(filters = 32, kernel_size = (3, 3), input_shape=(28,28,1), activation=\"relu\"))\n",
    "model.add(MaxPooling2D(pool_size = (2, 2)))"
   ]
  },
  {
   "cell_type": "code",
   "execution_count": null,
   "metadata": {},
   "outputs": [],
   "source": [
    "model.add(Conv2D(filters = 32, kernel_size = (3, 3), activation=\"relu\"))\n",
    "model.add(MaxPooling2D(pool_size=(2, 2)))"
   ]
  },
  {
   "cell_type": "code",
   "execution_count": null,
   "metadata": {},
   "outputs": [],
   "source": [
    "model.add(Flatten())"
   ]
  },
  {
   "cell_type": "code",
   "execution_count": null,
   "metadata": {},
   "outputs": [],
   "source": [
    "model.add(Dense(units=128, activation=\"relu\"))\n",
    "model.add(Dropout(0.3))\n",
    "model.add(Dense(units=36, activation=\"softmax\")) # valeurs de units represente le nombre de valeurs de sortie, ici, c'est 26 nombre de lettre de l'alphabet"
   ]
  },
  {
   "cell_type": "code",
   "execution_count": null,
   "metadata": {},
   "outputs": [],
   "source": [
    "model.compile(optimizer=\"adam\", loss=\"categorical_crossentropy\", metrics=[\"accuracy\"])"
   ]
  },
  {
   "cell_type": "code",
   "execution_count": 17,
   "metadata": {},
   "outputs": [
    {
     "output_type": "stream",
     "name": "stdout",
     "text": [
      "Found 432451 images belonging to 36 classes.\n",
      "Found 382451 images belonging to 36 classes.\n"
     ]
    }
   ],
   "source": [
    "train_datagen = ImageDataGenerator(rescale=1./255, shear_range=0.2, zoom_range=0.2, horizontal_flip=False, vertical_flip=False)\n",
    "\n",
    "test_datagen = ImageDataGenerator(rescale=1./255)\n",
    "\n",
    "train_generator = train_datagen.flow_from_directory(directory=\"data/TRAINING\", target_size=(28, 28), batch_size=32, class_mode=\"categorical\", color_mode=\"grayscale\")\n",
    "\n",
    "test_generator = test_datagen.flow_from_directory(directory=\"data/TEST\", target_size=(28,28), batch_size=32, class_mode=\"categorical\", color_mode=\"grayscale\")"
   ]
  },
  {
   "cell_type": "code",
   "execution_count": 18,
   "metadata": {},
   "outputs": [
    {
     "output_type": "stream",
     "name": "stdout",
     "text": [
      "Epoch 1/50\n",
      "422/422 [==============================] - 441s 1s/step - loss: 2.2173 - accuracy: 0.3893 - val_loss: 0.8606 - val_accuracy: 0.6692\n",
      "Epoch 2/50\n",
      "422/422 [==============================] - 442s 1s/step - loss: 1.3482 - accuracy: 0.5988 - val_loss: 0.5511 - val_accuracy: 0.7827\n",
      "Epoch 3/50\n",
      "422/422 [==============================] - 417s 988ms/step - loss: 1.0812 - accuracy: 0.6740 - val_loss: 0.7566 - val_accuracy: 0.8018\n",
      "Epoch 4/50\n",
      "422/422 [==============================] - 427s 1s/step - loss: 0.9400 - accuracy: 0.7162 - val_loss: 0.6618 - val_accuracy: 0.8408\n",
      "Epoch 5/50\n",
      "422/422 [==============================] - 428s 1s/step - loss: 0.8444 - accuracy: 0.7447 - val_loss: 0.4320 - val_accuracy: 0.8657\n",
      "Epoch 6/50\n",
      "422/422 [==============================] - 384s 909ms/step - loss: 0.7801 - accuracy: 0.7672 - val_loss: 0.3803 - val_accuracy: 0.8780\n",
      "Epoch 7/50\n",
      "422/422 [==============================] - 384s 911ms/step - loss: 0.7446 - accuracy: 0.7793 - val_loss: 0.1736 - val_accuracy: 0.8875\n",
      "Epoch 8/50\n",
      "422/422 [==============================] - 396s 939ms/step - loss: 0.6967 - accuracy: 0.7897 - val_loss: 0.6061 - val_accuracy: 0.8820\n",
      "Epoch 9/50\n",
      "422/422 [==============================] - 384s 909ms/step - loss: 0.6782 - accuracy: 0.7932 - val_loss: 0.3052 - val_accuracy: 0.9002\n",
      "Epoch 10/50\n",
      "422/422 [==============================] - 382s 904ms/step - loss: 0.6494 - accuracy: 0.8042 - val_loss: 0.6073 - val_accuracy: 0.8971\n",
      "Epoch 11/50\n",
      "422/422 [==============================] - 398s 942ms/step - loss: 0.6364 - accuracy: 0.8040 - val_loss: 0.2531 - val_accuracy: 0.9039\n",
      "Epoch 12/50\n",
      "422/422 [==============================] - 395s 936ms/step - loss: 0.6069 - accuracy: 0.8179 - val_loss: 0.2271 - val_accuracy: 0.9022\n",
      "Epoch 13/50\n",
      "422/422 [==============================] - 378s 896ms/step - loss: 0.6067 - accuracy: 0.8141 - val_loss: 0.5491 - val_accuracy: 0.9035\n",
      "Epoch 14/50\n",
      "422/422 [==============================] - 373s 884ms/step - loss: 0.5736 - accuracy: 0.8216 - val_loss: 0.4869 - val_accuracy: 0.8976\n",
      "Epoch 15/50\n",
      "422/422 [==============================] - 347s 822ms/step - loss: 0.5663 - accuracy: 0.8289 - val_loss: 0.2167 - val_accuracy: 0.9114\n",
      "Epoch 16/50\n",
      "422/422 [==============================] - 340s 806ms/step - loss: 0.5618 - accuracy: 0.8332 - val_loss: 0.2352 - val_accuracy: 0.9147\n",
      "Epoch 17/50\n",
      "422/422 [==============================] - 341s 808ms/step - loss: 0.5437 - accuracy: 0.8373 - val_loss: 0.3607 - val_accuracy: 0.9119\n",
      "Epoch 18/50\n",
      "422/422 [==============================] - 344s 815ms/step - loss: 0.5424 - accuracy: 0.8310 - val_loss: 0.3809 - val_accuracy: 0.9115\n",
      "Epoch 19/50\n",
      "422/422 [==============================] - 341s 809ms/step - loss: 0.5374 - accuracy: 0.8352 - val_loss: 0.3593 - val_accuracy: 0.9214\n",
      "Epoch 20/50\n",
      "422/422 [==============================] - 337s 799ms/step - loss: 0.5083 - accuracy: 0.8477 - val_loss: 0.3864 - val_accuracy: 0.9233\n",
      "Epoch 21/50\n",
      "422/422 [==============================] - 340s 806ms/step - loss: 0.5159 - accuracy: 0.8448 - val_loss: 0.1077 - val_accuracy: 0.9197\n",
      "Epoch 22/50\n",
      "422/422 [==============================] - 351s 832ms/step - loss: 0.5110 - accuracy: 0.8441 - val_loss: 0.1242 - val_accuracy: 0.9200\n",
      "Epoch 23/50\n",
      "422/422 [==============================] - 347s 821ms/step - loss: 0.5130 - accuracy: 0.8455 - val_loss: 0.2108 - val_accuracy: 0.9116\n",
      "Epoch 24/50\n",
      "422/422 [==============================] - 340s 806ms/step - loss: 0.5029 - accuracy: 0.8500 - val_loss: 0.2296 - val_accuracy: 0.9267\n",
      "Epoch 25/50\n",
      "422/422 [==============================] - 333s 789ms/step - loss: 0.4930 - accuracy: 0.8519 - val_loss: 0.5168 - val_accuracy: 0.9259\n",
      "Epoch 26/50\n",
      "422/422 [==============================] - 351s 833ms/step - loss: 0.5092 - accuracy: 0.8503 - val_loss: 0.1741 - val_accuracy: 0.9291\n",
      "Epoch 27/50\n",
      "422/422 [==============================] - 277s 656ms/step - loss: 0.4756 - accuracy: 0.8584 - val_loss: 0.2131 - val_accuracy: 0.9195\n",
      "Epoch 28/50\n",
      "422/422 [==============================] - 216s 512ms/step - loss: 0.4747 - accuracy: 0.8549 - val_loss: 0.2006 - val_accuracy: 0.9196\n",
      "Epoch 29/50\n",
      "422/422 [==============================] - 232s 551ms/step - loss: 0.4561 - accuracy: 0.8598 - val_loss: 0.1361 - val_accuracy: 0.9190\n",
      "Epoch 30/50\n",
      "422/422 [==============================] - 232s 549ms/step - loss: 0.4589 - accuracy: 0.8609 - val_loss: 0.1161 - val_accuracy: 0.9248\n",
      "Epoch 31/50\n",
      "422/422 [==============================] - 237s 562ms/step - loss: 0.4726 - accuracy: 0.8552 - val_loss: 0.2211 - val_accuracy: 0.9264\n",
      "Epoch 32/50\n",
      "422/422 [==============================] - 234s 553ms/step - loss: 0.4476 - accuracy: 0.8652 - val_loss: 0.2150 - val_accuracy: 0.9224\n",
      "Epoch 33/50\n",
      "422/422 [==============================] - 46s 109ms/step - loss: 0.4635 - accuracy: 0.8608 - val_loss: 0.1911 - val_accuracy: 0.9328\n",
      "Epoch 34/50\n",
      "422/422 [==============================] - 43s 101ms/step - loss: 0.4431 - accuracy: 0.8672 - val_loss: 0.2731 - val_accuracy: 0.9372\n",
      "Epoch 35/50\n",
      "422/422 [==============================] - 49s 116ms/step - loss: 0.4422 - accuracy: 0.8688 - val_loss: 0.1821 - val_accuracy: 0.9283\n",
      "Epoch 36/50\n",
      "422/422 [==============================] - 48s 114ms/step - loss: 0.4458 - accuracy: 0.8658 - val_loss: 0.4050 - val_accuracy: 0.9233\n",
      "Epoch 37/50\n",
      "422/422 [==============================] - 41s 96ms/step - loss: 0.4250 - accuracy: 0.8734 - val_loss: 0.3460 - val_accuracy: 0.9337\n",
      "Epoch 38/50\n",
      "422/422 [==============================] - 44s 104ms/step - loss: 0.4257 - accuracy: 0.8717 - val_loss: 0.3081 - val_accuracy: 0.9316\n",
      "Epoch 39/50\n",
      "422/422 [==============================] - 51s 120ms/step - loss: 0.4316 - accuracy: 0.8732 - val_loss: 0.3716 - val_accuracy: 0.9220\n",
      "Epoch 40/50\n",
      "422/422 [==============================] - 48s 114ms/step - loss: 0.4217 - accuracy: 0.8766 - val_loss: 0.2665 - val_accuracy: 0.9259\n",
      "Epoch 41/50\n",
      "422/422 [==============================] - 62s 146ms/step - loss: 0.4283 - accuracy: 0.8699 - val_loss: 0.2509 - val_accuracy: 0.9337\n",
      "Epoch 42/50\n",
      "422/422 [==============================] - 50s 119ms/step - loss: 0.4056 - accuracy: 0.8740 - val_loss: 0.2970 - val_accuracy: 0.9390\n",
      "Epoch 43/50\n",
      "422/422 [==============================] - 52s 123ms/step - loss: 0.4186 - accuracy: 0.8754 - val_loss: 0.2048 - val_accuracy: 0.9346\n",
      "Epoch 44/50\n",
      "422/422 [==============================] - 46s 109ms/step - loss: 0.4236 - accuracy: 0.8714 - val_loss: 0.1973 - val_accuracy: 0.9355\n",
      "Epoch 45/50\n",
      "422/422 [==============================] - 43s 103ms/step - loss: 0.4176 - accuracy: 0.8746 - val_loss: 0.0739 - val_accuracy: 0.9289\n",
      "Epoch 46/50\n",
      "422/422 [==============================] - 45s 107ms/step - loss: 0.4218 - accuracy: 0.8705 - val_loss: 0.2913 - val_accuracy: 0.9362\n",
      "Epoch 47/50\n",
      "422/422 [==============================] - 48s 113ms/step - loss: 0.3965 - accuracy: 0.8802 - val_loss: 0.2005 - val_accuracy: 0.9377\n",
      "Epoch 48/50\n",
      "422/422 [==============================] - 47s 110ms/step - loss: 0.4036 - accuracy: 0.8795 - val_loss: 0.1807 - val_accuracy: 0.9333\n",
      "Epoch 49/50\n",
      "422/422 [==============================] - 43s 101ms/step - loss: 0.4065 - accuracy: 0.8789 - val_loss: 0.2770 - val_accuracy: 0.9292\n",
      "Epoch 50/50\n",
      "422/422 [==============================] - 47s 112ms/step - loss: 0.4028 - accuracy: 0.8792 - val_loss: 0.0888 - val_accuracy: 0.9285\n"
     ]
    }
   ],
   "source": [
    "entrainement = model.fit_generator(\n",
    "    train_generator, \n",
    "    steps_per_epoch=len(train_generator) // 32,\n",
    "    epochs=50, \n",
    "    validation_data=test_generator, \n",
    "    validation_steps=len(test_generator) // 32\n",
    ")"
   ]
  },
  {
   "cell_type": "code",
   "execution_count": 19,
   "metadata": {},
   "outputs": [],
   "source": [
    "# sauvegarder le model\n",
    "model.save('alphabet_model_maxime.h5')"
   ]
  },
  {
   "cell_type": "code",
   "execution_count": null,
   "metadata": {},
   "outputs": [],
   "source": [
    "# Initialisation du tableau des alphabets\n",
    "alphabet_array = ['A','B','C','D','E','F','G','H','I','J','K','L','M','N','O','P','Q','R','S','T','U','V','W','X','Y','Z']"
   ]
  },
  {
   "cell_type": "code",
   "execution_count": null,
   "metadata": {},
   "outputs": [],
   "source": [
    "model.summary()"
   ]
  },
  {
   "cell_type": "code",
   "execution_count": null,
   "metadata": {},
   "outputs": [],
   "source": [
    "\n",
    "from keras.preprocessing import image\n",
    "from keras.models import load_model\n",
    "\n",
    "choix = r'data/VALIDATION/ROI_1.png'\n",
    "test_model = load_model('alphabet_model.h5')\n",
    "\n",
    "test_image = image.load_img(choix, target_size = (28, 28), color_mode=\"grayscale\")\n",
    "test_image = image.img_to_array(test_image)\n",
    "test_image = np.expand_dims(test_image, axis = 0)\n",
    "result = test_model.predict(test_image)\n",
    "# train_generator.class_indices\n",
    "\n",
    "preds = test_model.predict_classes(test_image)\n",
    "prob = test_model.predict_proba(test_image)\n",
    "\n",
    "index = preds[0]\n",
    "print(f'Il s\\'agit de la lettre \"{alphabet_array[index]}\".')"
   ]
  },
  {
   "cell_type": "code",
   "execution_count": null,
   "metadata": {},
   "outputs": [],
   "source": []
  }
 ]
}