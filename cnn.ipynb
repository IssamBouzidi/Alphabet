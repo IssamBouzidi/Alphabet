{
 "metadata": {
  "language_info": {
   "codemirror_mode": {
    "name": "ipython",
    "version": 3
   },
   "file_extension": ".py",
   "mimetype": "text/x-python",
   "name": "python",
   "nbconvert_exporter": "python",
   "pygments_lexer": "ipython3",
   "version": "3.7.9-final"
  },
  "orig_nbformat": 2,
  "kernelspec": {
   "name": "python3",
   "display_name": "Python 3.7.9 64-bit ('alphabets': conda)",
   "metadata": {
    "interpreter": {
     "hash": "a021cfdfd4194657ccdb1b0526c88d667e5e7bebd29be4a6848eecd6f81e74e9"
    }
   }
  }
 },
 "nbformat": 4,
 "nbformat_minor": 2,
 "cells": [
  {
   "cell_type": "code",
   "execution_count": 1,
   "metadata": {},
   "outputs": [
    {
     "output_type": "stream",
     "name": "stderr",
     "text": [
      "Using TensorFlow backend.\n"
     ]
    }
   ],
   "source": [
    "import numpy as np\n",
    "# import matplotlib.pyplot as plt\n",
    "import keras\n",
    "from keras.preprocessing.image import ImageDataGenerator\n",
    "from keras.preprocessing import image\n",
    "from keras.models import Sequential\n",
    "from keras.layers import Conv2D, MaxPooling2D, Flatten, Dense, Activation, Dropout\n",
    "import os\n",
    "import pickle"
   ]
  },
  {
   "cell_type": "code",
   "execution_count": 2,
   "metadata": {},
   "outputs": [],
   "source": [
    "model = Sequential()"
   ]
  },
  {
   "cell_type": "code",
   "execution_count": 3,
   "metadata": {},
   "outputs": [],
   "source": [
    "model.add(Conv2D(filters = 32, kernel_size = (3, 3), input_shape=(28,28,1), activation=\"relu\"))\n",
    "model.add(MaxPooling2D(pool_size = (2, 2)))"
   ]
  },
  {
   "cell_type": "code",
   "execution_count": 4,
   "metadata": {},
   "outputs": [],
   "source": [
    "model.add(Conv2D(filters = 32, kernel_size = (3, 3), activation=\"relu\"))\n",
    "model.add(MaxPooling2D(pool_size=(2, 2)))"
   ]
  },
  {
   "cell_type": "code",
   "execution_count": 5,
   "metadata": {},
   "outputs": [],
   "source": [
    "model.add(Flatten())"
   ]
  },
  {
   "cell_type": "code",
   "execution_count": 6,
   "metadata": {},
   "outputs": [],
   "source": [
    "model.add(Dense(units=128, activation=\"relu\"))\n",
    "model.add(Dropout(0.3))\n",
    "model.add(Dense(units=36, activation=\"softmax\"))"
   ]
  },
  {
   "cell_type": "code",
   "execution_count": 7,
   "metadata": {},
   "outputs": [],
   "source": [
    "model.compile(optimizer=\"adam\", loss=\"categorical_crossentropy\", metrics=[\"accuracy\"])"
   ]
  },
  {
   "cell_type": "code",
   "execution_count": 8,
   "metadata": {},
   "outputs": [
    {
     "output_type": "stream",
     "name": "stdout",
     "text": [
      "Found 429792 images belonging to 36 classes.\n",
      "Found 339163 images belonging to 36 classes.\n"
     ]
    }
   ],
   "source": [
    "train_datagen = ImageDataGenerator(rescale=1./255, shear_range=0.2, zoom_range=0.2, horizontal_flip=False, vertical_flip=False)\n",
    "\n",
    "test_datagen = ImageDataGenerator(rescale=1./255)\n",
    "\n",
    "train_generator = train_datagen.flow_from_directory(directory=\"data/TRAINING\", target_size=(28, 28), batch_size=32, class_mode=\"categorical\", color_mode=\"grayscale\")\n",
    "\n",
    "test_generator = test_datagen.flow_from_directory(directory=\"data/TEST\", target_size=(28,28), batch_size=32, class_mode=\"categorical\", color_mode=\"grayscale\")"
   ]
  },
  {
   "cell_type": "code",
   "execution_count": 9,
   "metadata": {},
   "outputs": [
    {
     "output_type": "stream",
     "name": "stdout",
     "text": [
      "Epoch 1/50\n",
      "419/419 [==============================] - 190s 454ms/step - loss: 1.3474 - accuracy: 0.6331 - val_loss: 0.0982 - val_accuracy: 0.8858\n",
      "Epoch 2/50\n",
      "419/419 [==============================] - 139s 331ms/step - loss: 0.5886 - accuracy: 0.8264 - val_loss: 0.1980 - val_accuracy: 0.9238\n",
      "Epoch 3/50\n",
      "419/419 [==============================] - 167s 399ms/step - loss: 0.4478 - accuracy: 0.8684 - val_loss: 0.0394 - val_accuracy: 0.9459\n",
      "Epoch 4/50\n",
      "419/419 [==============================] - 173s 413ms/step - loss: 0.3839 - accuracy: 0.8856 - val_loss: 0.2163 - val_accuracy: 0.9453\n",
      "Epoch 5/50\n",
      "419/419 [==============================] - 145s 346ms/step - loss: 0.3501 - accuracy: 0.8966 - val_loss: 0.0128 - val_accuracy: 0.9546\n",
      "Epoch 6/50\n",
      "419/419 [==============================] - 114s 273ms/step - loss: 0.3304 - accuracy: 0.9025 - val_loss: 0.1407 - val_accuracy: 0.9560\n",
      "Epoch 7/50\n",
      "419/419 [==============================] - 115s 274ms/step - loss: 0.3002 - accuracy: 0.9107 - val_loss: 0.0380 - val_accuracy: 0.9583\n",
      "Epoch 8/50\n",
      "419/419 [==============================] - 105s 251ms/step - loss: 0.3059 - accuracy: 0.9105 - val_loss: 0.0482 - val_accuracy: 0.9572\n",
      "Epoch 9/50\n",
      "419/419 [==============================] - 146s 349ms/step - loss: 0.2845 - accuracy: 0.9153 - val_loss: 0.0623 - val_accuracy: 0.9661\n",
      "Epoch 10/50\n",
      "419/419 [==============================] - 92s 221ms/step - loss: 0.2703 - accuracy: 0.9209 - val_loss: 0.0156 - val_accuracy: 0.9660\n",
      "Epoch 11/50\n",
      "419/419 [==============================] - 111s 265ms/step - loss: 0.2607 - accuracy: 0.9246 - val_loss: 0.0840 - val_accuracy: 0.9670\n",
      "Epoch 12/50\n",
      "419/419 [==============================] - 108s 259ms/step - loss: 0.2621 - accuracy: 0.9231 - val_loss: 0.1528 - val_accuracy: 0.9635\n",
      "Epoch 13/50\n",
      "419/419 [==============================] - 99s 236ms/step - loss: 0.2337 - accuracy: 0.9302 - val_loss: 0.0333 - val_accuracy: 0.9688\n",
      "Epoch 14/50\n",
      "419/419 [==============================] - 93s 221ms/step - loss: 0.2468 - accuracy: 0.9273 - val_loss: 0.1149 - val_accuracy: 0.9687\n",
      "Epoch 15/50\n",
      "419/419 [==============================] - 157s 375ms/step - loss: 0.2359 - accuracy: 0.9316 - val_loss: 0.0163 - val_accuracy: 0.9716\n",
      "Epoch 16/50\n",
      "419/419 [==============================] - 129s 307ms/step - loss: 0.2344 - accuracy: 0.9321 - val_loss: 0.4872 - val_accuracy: 0.9715\n",
      "Epoch 17/50\n",
      "419/419 [==============================] - 192s 457ms/step - loss: 0.2148 - accuracy: 0.9379 - val_loss: 0.1020 - val_accuracy: 0.9705\n",
      "Epoch 18/50\n",
      "419/419 [==============================] - 158s 378ms/step - loss: 0.2210 - accuracy: 0.9371 - val_loss: 0.0847 - val_accuracy: 0.9721\n",
      "Epoch 19/50\n",
      "419/419 [==============================] - 213s 508ms/step - loss: 0.2062 - accuracy: 0.9414 - val_loss: 0.0868 - val_accuracy: 0.9724\n",
      "Epoch 20/50\n",
      "419/419 [==============================] - 87s 208ms/step - loss: 0.2042 - accuracy: 0.9403 - val_loss: 0.1150 - val_accuracy: 0.9734\n",
      "Epoch 21/50\n",
      "419/419 [==============================] - 83s 199ms/step - loss: 0.1929 - accuracy: 0.9438 - val_loss: 0.0742 - val_accuracy: 0.9739\n",
      "Epoch 22/50\n",
      "419/419 [==============================] - 108s 257ms/step - loss: 0.2048 - accuracy: 0.9411 - val_loss: 0.0336 - val_accuracy: 0.9697\n",
      "Epoch 23/50\n",
      "419/419 [==============================] - 141s 336ms/step - loss: 0.1951 - accuracy: 0.9425 - val_loss: 0.0199 - val_accuracy: 0.9740\n",
      "Epoch 24/50\n",
      "419/419 [==============================] - 129s 307ms/step - loss: 0.1925 - accuracy: 0.9447 - val_loss: 0.0527 - val_accuracy: 0.9704\n",
      "Epoch 25/50\n",
      "419/419 [==============================] - 192s 457ms/step - loss: 0.1894 - accuracy: 0.9447 - val_loss: 0.2763 - val_accuracy: 0.9731\n",
      "Epoch 26/50\n",
      "419/419 [==============================] - 123s 293ms/step - loss: 0.1940 - accuracy: 0.9435 - val_loss: 0.1774 - val_accuracy: 0.9705\n",
      "Epoch 27/50\n",
      "419/419 [==============================] - 100s 238ms/step - loss: 0.1895 - accuracy: 0.9446 - val_loss: 0.1084 - val_accuracy: 0.9764\n",
      "Epoch 28/50\n",
      "419/419 [==============================] - 104s 248ms/step - loss: 0.1775 - accuracy: 0.9496 - val_loss: 0.0448 - val_accuracy: 0.9746\n",
      "Epoch 29/50\n",
      "419/419 [==============================] - 134s 320ms/step - loss: 0.1744 - accuracy: 0.9518 - val_loss: 0.0754 - val_accuracy: 0.9730\n",
      "Epoch 30/50\n",
      "419/419 [==============================] - 114s 271ms/step - loss: 0.1700 - accuracy: 0.9516 - val_loss: 0.0107 - val_accuracy: 0.9778\n",
      "Epoch 31/50\n",
      "419/419 [==============================] - 143s 341ms/step - loss: 0.1858 - accuracy: 0.9469 - val_loss: 0.0138 - val_accuracy: 0.9738\n",
      "Epoch 32/50\n",
      "419/419 [==============================] - 148s 353ms/step - loss: 0.1773 - accuracy: 0.9497 - val_loss: 0.2463 - val_accuracy: 0.9785\n",
      "Epoch 33/50\n",
      "419/419 [==============================] - 112s 268ms/step - loss: 0.1624 - accuracy: 0.9528 - val_loss: 0.0659 - val_accuracy: 0.9768\n",
      "Epoch 34/50\n",
      "419/419 [==============================] - 100s 238ms/step - loss: 0.1714 - accuracy: 0.9487 - val_loss: 0.1859 - val_accuracy: 0.9782\n",
      "Epoch 35/50\n",
      "419/419 [==============================] - 60s 143ms/step - loss: 0.1757 - accuracy: 0.9488 - val_loss: 0.0521 - val_accuracy: 0.9793\n",
      "Epoch 36/50\n",
      "419/419 [==============================] - 68s 162ms/step - loss: 0.1640 - accuracy: 0.9527 - val_loss: 0.0163 - val_accuracy: 0.9762\n",
      "Epoch 37/50\n",
      "419/419 [==============================] - 81s 192ms/step - loss: 0.1696 - accuracy: 0.9532 - val_loss: 0.0259 - val_accuracy: 0.9820\n",
      "Epoch 38/50\n",
      "419/419 [==============================] - 68s 161ms/step - loss: 0.1530 - accuracy: 0.9541 - val_loss: 0.3512 - val_accuracy: 0.9775\n",
      "Epoch 39/50\n",
      "419/419 [==============================] - 96s 229ms/step - loss: 0.1550 - accuracy: 0.9560 - val_loss: 0.1391 - val_accuracy: 0.9788\n",
      "Epoch 40/50\n",
      "419/419 [==============================] - 76s 181ms/step - loss: 0.1541 - accuracy: 0.9555 - val_loss: 0.1310 - val_accuracy: 0.9795\n",
      "Epoch 41/50\n",
      "419/419 [==============================] - 66s 157ms/step - loss: 0.1580 - accuracy: 0.9537 - val_loss: 0.0243 - val_accuracy: 0.9789\n",
      "Epoch 42/50\n",
      "419/419 [==============================] - 65s 155ms/step - loss: 0.1479 - accuracy: 0.9553 - val_loss: 0.0932 - val_accuracy: 0.9788\n",
      "Epoch 43/50\n",
      "419/419 [==============================] - 66s 158ms/step - loss: 0.1489 - accuracy: 0.9576 - val_loss: 0.0483 - val_accuracy: 0.9815\n",
      "Epoch 44/50\n",
      "419/419 [==============================] - 92s 219ms/step - loss: 0.1510 - accuracy: 0.9580 - val_loss: 0.0639 - val_accuracy: 0.9817\n",
      "Epoch 45/50\n",
      "419/419 [==============================] - 88s 211ms/step - loss: 0.1577 - accuracy: 0.9574 - val_loss: 0.0029 - val_accuracy: 0.9774\n",
      "Epoch 46/50\n",
      "419/419 [==============================] - 66s 158ms/step - loss: 0.1545 - accuracy: 0.9545 - val_loss: 0.1289 - val_accuracy: 0.9810\n",
      "Epoch 47/50\n",
      "419/419 [==============================] - 66s 157ms/step - loss: 0.1543 - accuracy: 0.9540 - val_loss: 0.0305 - val_accuracy: 0.9782\n",
      "Epoch 48/50\n",
      "419/419 [==============================] - 66s 157ms/step - loss: 0.1462 - accuracy: 0.9568 - val_loss: 0.2174 - val_accuracy: 0.9808\n",
      "Epoch 49/50\n",
      "419/419 [==============================] - 109s 261ms/step - loss: 0.1354 - accuracy: 0.9614 - val_loss: 0.0354 - val_accuracy: 0.9813\n",
      "Epoch 50/50\n",
      "419/419 [==============================] - 65s 155ms/step - loss: 0.1430 - accuracy: 0.9591 - val_loss: 0.0032 - val_accuracy: 0.9778\n"
     ]
    }
   ],
   "source": [
    "entrainement = model.fit_generator(\n",
    "    train_generator, \n",
    "    steps_per_epoch=len(train_generator) // 32,\n",
    "    epochs=50, \n",
    "    validation_data=test_generator, \n",
    "    validation_steps=len(test_generator) // 32\n",
    ")"
   ]
  },
  {
   "cell_type": "code",
   "execution_count": 10,
   "metadata": {},
   "outputs": [],
   "source": [
    "# sauvegarder le model\n",
    "model.save('alphabet_model.h5')"
   ]
  },
  {
   "cell_type": "code",
   "execution_count": 11,
   "metadata": {},
   "outputs": [
    {
     "output_type": "stream",
     "name": "stdout",
     "text": [
      "Model: \"sequential_1\"\n_________________________________________________________________\nLayer (type)                 Output Shape              Param #   \n=================================================================\nconv2d_1 (Conv2D)            (None, 26, 26, 32)        320       \n_________________________________________________________________\nmax_pooling2d_1 (MaxPooling2 (None, 13, 13, 32)        0         \n_________________________________________________________________\nconv2d_2 (Conv2D)            (None, 11, 11, 32)        9248      \n_________________________________________________________________\nmax_pooling2d_2 (MaxPooling2 (None, 5, 5, 32)          0         \n_________________________________________________________________\nflatten_1 (Flatten)          (None, 800)               0         \n_________________________________________________________________\ndense_1 (Dense)              (None, 128)               102528    \n_________________________________________________________________\ndropout_1 (Dropout)          (None, 128)               0         \n_________________________________________________________________\ndense_2 (Dense)              (None, 36)                4644      \n=================================================================\nTotal params: 116,740\nTrainable params: 116,740\nNon-trainable params: 0\n_________________________________________________________________\n"
     ]
    }
   ],
   "source": [
    "model.summary()"
   ]
  },
  {
   "cell_type": "code",
   "execution_count": null,
   "metadata": {},
   "outputs": [],
   "source": [
    "\n",
    "# from keras.preprocessing import image\n",
    "# from keras.models import load_model\n",
    "\n",
    "# choix = r'data/VALIDATION/ROI_1.png'\n",
    "# test_model = load_model('alphabet_model.h5')\n",
    "\n",
    "# test_image = image.load_img(choix, target_size = (28, 28), color_mode=\"grayscale\")\n",
    "# test_image = image.img_to_array(test_image)\n",
    "# test_image = np.expand_dims(test_image, axis = 0)\n",
    "# result = test_model.predict(test_image)\n",
    "# # train_generator.class_indices\n",
    "\n",
    "# preds = test_model.predict_classes(test_image)\n",
    "# prob = test_model.predict_proba(test_image)\n",
    "\n",
    "# index = preds[0]\n",
    "# print(f'Il s\\'agit de la lettre \"{alphabet_array[index]}\".')"
   ]
  },
  {
   "cell_type": "code",
   "execution_count": null,
   "metadata": {},
   "outputs": [],
   "source": []
  }
 ]
}