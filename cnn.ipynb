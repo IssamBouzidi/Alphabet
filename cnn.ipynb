{
 "metadata": {
  "language_info": {
   "codemirror_mode": {
    "name": "ipython",
    "version": 3
   },
   "file_extension": ".py",
   "mimetype": "text/x-python",
   "name": "python",
   "nbconvert_exporter": "python",
   "pygments_lexer": "ipython3",
   "version": "3.7.9-final"
  },
  "orig_nbformat": 2,
  "kernelspec": {
   "name": "python3",
   "display_name": "Python 3"
  }
 },
 "nbformat": 4,
 "nbformat_minor": 2,
 "cells": [
  {
   "cell_type": "code",
   "execution_count": 1,
   "metadata": {},
   "outputs": [
    {
     "output_type": "stream",
     "name": "stderr",
     "text": [
      "Using TensorFlow backend.\n"
     ]
    }
   ],
   "source": [
    "import numpy as np\n",
    "# import matplotlib.pyplot as plt\n",
    "import keras\n",
    "from keras.preprocessing.image import ImageDataGenerator\n",
    "from keras.preprocessing import image\n",
    "from keras.models import Sequential\n",
    "from keras.layers import Conv2D, MaxPooling2D, Flatten, Dense, Activation, Dropout\n",
    "import os\n",
    "import pickle"
   ]
  },
  {
   "cell_type": "code",
   "execution_count": 2,
   "metadata": {},
   "outputs": [],
   "source": [
    "model = Sequential()"
   ]
  },
  {
   "cell_type": "code",
   "execution_count": 3,
   "metadata": {},
   "outputs": [],
   "source": [
    "model.add(Conv2D(filters = 32, kernel_size = (3, 3), input_shape=(28,28,1), activation=\"relu\"))\n",
    "model.add(MaxPooling2D(pool_size = (2, 2)))"
   ]
  },
  {
   "cell_type": "code",
   "execution_count": 4,
   "metadata": {},
   "outputs": [],
   "source": [
    "model.add(Conv2D(filters = 32, kernel_size = (3, 3), activation=\"relu\"))\n",
    "model.add(MaxPooling2D(pool_size=(2, 2)))"
   ]
  },
  {
   "cell_type": "code",
   "execution_count": 5,
   "metadata": {},
   "outputs": [],
   "source": [
    "model.add(Flatten())"
   ]
  },
  {
   "cell_type": "code",
   "execution_count": 6,
   "metadata": {},
   "outputs": [],
   "source": [
    "model.add(Dense(units=128, activation=\"relu\"))\n",
    "model.add(Dropout(0.3))\n",
    "model.add(Dense(units=26, activation=\"softmax\"))"
   ]
  },
  {
   "cell_type": "code",
   "execution_count": 7,
   "metadata": {},
   "outputs": [],
   "source": [
    "model.compile(optimizer=\"adam\", loss=\"categorical_crossentropy\", metrics=[\"accuracy\"])"
   ]
  },
  {
   "cell_type": "code",
   "execution_count": 8,
   "metadata": {},
   "outputs": [
    {
     "output_type": "stream",
     "name": "stdout",
     "text": [
      "Found 380139 images belonging to 26 classes.\n",
      "Found 332690 images belonging to 26 classes.\n"
     ]
    }
   ],
   "source": [
    "train_datagen = ImageDataGenerator(rescale=1./255, shear_range=0.2, zoom_range=0.2, horizontal_flip=False, vertical_flip=False)\n",
    "\n",
    "test_datagen = ImageDataGenerator(rescale=1./255)\n",
    "\n",
    "train_generator = train_datagen.flow_from_directory(directory=\"data/TRAINING\", target_size=(28, 28), batch_size=32, class_mode=\"categorical\", color_mode=\"grayscale\")\n",
    "\n",
    "test_generator = test_datagen.flow_from_directory(directory=\"data/TEST\", target_size=(28,28), batch_size=32, class_mode=\"categorical\", color_mode=\"grayscale\")"
   ]
  },
  {
   "cell_type": "code",
   "execution_count": 9,
   "metadata": {},
   "outputs": [
    {
     "output_type": "stream",
     "name": "stdout",
     "text": [
      "Epoch 1/50\n",
      "371/371 [==============================] - 80s 215ms/step - loss: 1.1379 - accuracy: 0.6793 - val_loss: 0.5172 - val_accuracy: 0.8969\n",
      "Epoch 2/50\n",
      "371/371 [==============================] - 82s 220ms/step - loss: 0.4304 - accuracy: 0.8747 - val_loss: 0.0834 - val_accuracy: 0.9392\n",
      "Epoch 3/50\n",
      "371/371 [==============================] - 99s 268ms/step - loss: 0.3202 - accuracy: 0.9064 - val_loss: 0.0657 - val_accuracy: 0.9533\n",
      "Epoch 4/50\n",
      "371/371 [==============================] - 81s 219ms/step - loss: 0.2605 - accuracy: 0.9256 - val_loss: 0.0947 - val_accuracy: 0.9580\n",
      "Epoch 5/50\n",
      "371/371 [==============================] - 76s 206ms/step - loss: 0.2253 - accuracy: 0.9322 - val_loss: 0.1391 - val_accuracy: 0.9615\n",
      "Epoch 6/50\n",
      "371/371 [==============================] - 78s 210ms/step - loss: 0.2055 - accuracy: 0.9410 - val_loss: 0.3749 - val_accuracy: 0.9710\n",
      "Epoch 7/50\n",
      "371/371 [==============================] - 77s 207ms/step - loss: 0.1968 - accuracy: 0.9456 - val_loss: 0.0042 - val_accuracy: 0.9680\n",
      "Epoch 8/50\n",
      "371/371 [==============================] - 106s 286ms/step - loss: 0.1892 - accuracy: 0.9482 - val_loss: 0.1341 - val_accuracy: 0.9690\n",
      "Epoch 9/50\n",
      "371/371 [==============================] - 91s 246ms/step - loss: 0.1885 - accuracy: 0.9442 - val_loss: 0.1179 - val_accuracy: 0.9708\n",
      "Epoch 10/50\n",
      "371/371 [==============================] - 79s 212ms/step - loss: 0.1799 - accuracy: 0.9487 - val_loss: 0.0039 - val_accuracy: 0.9752\n",
      "Epoch 11/50\n",
      "371/371 [==============================] - 111s 300ms/step - loss: 0.1693 - accuracy: 0.9502 - val_loss: 0.0113 - val_accuracy: 0.9739\n",
      "Epoch 12/50\n",
      "371/371 [==============================] - 92s 248ms/step - loss: 0.1552 - accuracy: 0.9554 - val_loss: 0.0106 - val_accuracy: 0.9726\n",
      "Epoch 13/50\n",
      "371/371 [==============================] - 77s 207ms/step - loss: 0.1530 - accuracy: 0.9554 - val_loss: 0.0062 - val_accuracy: 0.9774\n",
      "Epoch 14/50\n",
      "371/371 [==============================] - 76s 205ms/step - loss: 0.1580 - accuracy: 0.9559 - val_loss: 0.3902 - val_accuracy: 0.9769\n",
      "Epoch 15/50\n",
      "371/371 [==============================] - 124s 333ms/step - loss: 0.1523 - accuracy: 0.9553 - val_loss: 0.2617 - val_accuracy: 0.9766\n",
      "Epoch 16/50\n",
      "371/371 [==============================] - 82s 220ms/step - loss: 0.1412 - accuracy: 0.9593 - val_loss: 0.0406 - val_accuracy: 0.9753\n",
      "Epoch 17/50\n",
      "371/371 [==============================] - 85s 229ms/step - loss: 0.1456 - accuracy: 0.9587 - val_loss: 0.0056 - val_accuracy: 0.9806\n",
      "Epoch 18/50\n",
      "371/371 [==============================] - 114s 307ms/step - loss: 0.1302 - accuracy: 0.9634 - val_loss: 0.0251 - val_accuracy: 0.9769\n",
      "Epoch 19/50\n",
      "371/371 [==============================] - 93s 250ms/step - loss: 0.1318 - accuracy: 0.9637 - val_loss: 0.1388 - val_accuracy: 0.9769\n",
      "Epoch 20/50\n",
      "371/371 [==============================] - 78s 209ms/step - loss: 0.1346 - accuracy: 0.9617 - val_loss: 0.0218 - val_accuracy: 0.9783\n",
      "Epoch 21/50\n",
      "371/371 [==============================] - 79s 212ms/step - loss: 0.1397 - accuracy: 0.9621 - val_loss: 0.1115 - val_accuracy: 0.9770\n",
      "Epoch 22/50\n",
      "371/371 [==============================] - 142s 382ms/step - loss: 0.1305 - accuracy: 0.9625 - val_loss: 0.0507 - val_accuracy: 0.9805\n",
      "Epoch 23/50\n",
      "371/371 [==============================] - 108s 292ms/step - loss: 0.1135 - accuracy: 0.9654 - val_loss: 0.3097 - val_accuracy: 0.9808\n",
      "Epoch 24/50\n",
      "371/371 [==============================] - 121s 325ms/step - loss: 0.1199 - accuracy: 0.9677 - val_loss: 0.1109 - val_accuracy: 0.9784\n",
      "Epoch 25/50\n",
      "371/371 [==============================] - 92s 248ms/step - loss: 0.1191 - accuracy: 0.9679 - val_loss: 0.0259 - val_accuracy: 0.9804\n",
      "Epoch 26/50\n",
      "371/371 [==============================] - 96s 259ms/step - loss: 0.1162 - accuracy: 0.9646 - val_loss: 0.0097 - val_accuracy: 0.9823\n",
      "Epoch 27/50\n",
      "371/371 [==============================] - 126s 339ms/step - loss: 0.1175 - accuracy: 0.9665 - val_loss: 0.2413 - val_accuracy: 0.9807\n",
      "Epoch 28/50\n",
      "371/371 [==============================] - 116s 313ms/step - loss: 0.1171 - accuracy: 0.9668 - val_loss: 0.2223 - val_accuracy: 0.9843\n",
      "Epoch 29/50\n",
      "371/371 [==============================] - 122s 330ms/step - loss: 0.1126 - accuracy: 0.9692 - val_loss: 0.0026 - val_accuracy: 0.9819\n",
      "Epoch 30/50\n",
      "371/371 [==============================] - 132s 355ms/step - loss: 0.1155 - accuracy: 0.9677 - val_loss: 0.0117 - val_accuracy: 0.9849\n",
      "Epoch 31/50\n",
      "371/371 [==============================] - 148s 399ms/step - loss: 0.1124 - accuracy: 0.9682 - val_loss: 0.0528 - val_accuracy: 0.9821\n",
      "Epoch 32/50\n",
      "371/371 [==============================] - 116s 313ms/step - loss: 0.1004 - accuracy: 0.9726 - val_loss: 0.0180 - val_accuracy: 0.9824\n",
      "Epoch 33/50\n",
      "371/371 [==============================] - 90s 242ms/step - loss: 0.1064 - accuracy: 0.9718 - val_loss: 0.0410 - val_accuracy: 0.9843\n",
      "Epoch 34/50\n",
      "371/371 [==============================] - 103s 277ms/step - loss: 0.1067 - accuracy: 0.9717 - val_loss: 0.0032 - val_accuracy: 0.9801\n",
      "Epoch 35/50\n",
      "371/371 [==============================] - 143s 384ms/step - loss: 0.1019 - accuracy: 0.9712 - val_loss: 0.0027 - val_accuracy: 0.9835\n",
      "Epoch 36/50\n",
      "371/371 [==============================] - 122s 328ms/step - loss: 0.1005 - accuracy: 0.9704 - val_loss: 0.0497 - val_accuracy: 0.9828\n",
      "Epoch 37/50\n",
      "371/371 [==============================] - 94s 255ms/step - loss: 0.0937 - accuracy: 0.9742 - val_loss: 0.0346 - val_accuracy: 0.9844\n",
      "Epoch 38/50\n",
      "371/371 [==============================] - 78s 209ms/step - loss: 0.0892 - accuracy: 0.9740 - val_loss: 5.9462e-04 - val_accuracy: 0.9859\n",
      "Epoch 39/50\n",
      "371/371 [==============================] - 88s 238ms/step - loss: 0.1065 - accuracy: 0.9708 - val_loss: 0.0367 - val_accuracy: 0.9835\n",
      "Epoch 40/50\n",
      "371/371 [==============================] - 92s 249ms/step - loss: 0.0957 - accuracy: 0.9716 - val_loss: 0.0586 - val_accuracy: 0.9854\n",
      "Epoch 41/50\n",
      "371/371 [==============================] - 131s 354ms/step - loss: 0.1039 - accuracy: 0.9715 - val_loss: 0.0282 - val_accuracy: 0.9855\n",
      "Epoch 42/50\n",
      "371/371 [==============================] - 96s 260ms/step - loss: 0.0979 - accuracy: 0.9730 - val_loss: 0.1460 - val_accuracy: 0.9846\n",
      "Epoch 43/50\n",
      "371/371 [==============================] - 99s 268ms/step - loss: 0.0865 - accuracy: 0.9763 - val_loss: 0.1145 - val_accuracy: 0.9837\n",
      "Epoch 44/50\n",
      "371/371 [==============================] - 117s 316ms/step - loss: 0.0840 - accuracy: 0.9747 - val_loss: 0.1185 - val_accuracy: 0.9829\n",
      "Epoch 45/50\n",
      "371/371 [==============================] - 85s 230ms/step - loss: 0.0985 - accuracy: 0.9725 - val_loss: 0.1754 - val_accuracy: 0.9833\n",
      "Epoch 46/50\n",
      "371/371 [==============================] - 92s 247ms/step - loss: 0.0868 - accuracy: 0.9735 - val_loss: 0.0601 - val_accuracy: 0.9861\n",
      "Epoch 47/50\n",
      "371/371 [==============================] - 89s 241ms/step - loss: 0.0943 - accuracy: 0.9730 - val_loss: 0.0293 - val_accuracy: 0.9861\n",
      "Epoch 48/50\n",
      "371/371 [==============================] - 127s 343ms/step - loss: 0.0929 - accuracy: 0.9758 - val_loss: 0.0076 - val_accuracy: 0.9834\n",
      "Epoch 49/50\n",
      "371/371 [==============================] - 98s 265ms/step - loss: 0.0835 - accuracy: 0.9759 - val_loss: 0.0092 - val_accuracy: 0.9858\n",
      "Epoch 50/50\n",
      "371/371 [==============================] - 96s 260ms/step - loss: 0.0919 - accuracy: 0.9757 - val_loss: 0.1978 - val_accuracy: 0.9854\n"
     ]
    }
   ],
   "source": [
    "entrainement = model.fit_generator(\n",
    "    train_generator, \n",
    "    steps_per_epoch=len(train_generator) // 32,\n",
    "    epochs=50, \n",
    "    validation_data=test_generator, \n",
    "    validation_steps=len(test_generator) // 32\n",
    ")"
   ]
  },
  {
   "cell_type": "code",
   "execution_count": 10,
   "metadata": {},
   "outputs": [],
   "source": [
    "# sauvegarder le model\n",
    "model.save('alphabet_model.h5')"
   ]
  },
  {
   "cell_type": "code",
   "execution_count": 11,
   "metadata": {},
   "outputs": [
    {
     "output_type": "stream",
     "name": "stdout",
     "text": [
      "Model: \"sequential_1\"\n_________________________________________________________________\nLayer (type)                 Output Shape              Param #   \n=================================================================\nconv2d_1 (Conv2D)            (None, 26, 26, 32)        320       \n_________________________________________________________________\nmax_pooling2d_1 (MaxPooling2 (None, 13, 13, 32)        0         \n_________________________________________________________________\nconv2d_2 (Conv2D)            (None, 11, 11, 32)        9248      \n_________________________________________________________________\nmax_pooling2d_2 (MaxPooling2 (None, 5, 5, 32)          0         \n_________________________________________________________________\nflatten_1 (Flatten)          (None, 800)               0         \n_________________________________________________________________\ndense_1 (Dense)              (None, 128)               102528    \n_________________________________________________________________\ndropout_1 (Dropout)          (None, 128)               0         \n_________________________________________________________________\ndense_2 (Dense)              (None, 26)                3354      \n=================================================================\nTotal params: 115,450\nTrainable params: 115,450\nNon-trainable params: 0\n_________________________________________________________________\n"
     ]
    }
   ],
   "source": [
    "model.summary()"
   ]
  },
  {
   "cell_type": "code",
   "execution_count": null,
   "metadata": {},
   "outputs": [],
   "source": [
    "\n",
    "# from keras.preprocessing import image\n",
    "# from keras.models import load_model\n",
    "\n",
    "# choix = r'data/VALIDATION/ROI_1.png'\n",
    "# test_model = load_model('alphabet_model.h5')\n",
    "\n",
    "# test_image = image.load_img(choix, target_size = (28, 28), color_mode=\"grayscale\")\n",
    "# test_image = image.img_to_array(test_image)\n",
    "# test_image = np.expand_dims(test_image, axis = 0)\n",
    "# result = test_model.predict(test_image)\n",
    "# # train_generator.class_indices\n",
    "\n",
    "# preds = test_model.predict_classes(test_image)\n",
    "# prob = test_model.predict_proba(test_image)\n",
    "\n",
    "# index = preds[0]\n",
    "# print(f'Il s\\'agit de la lettre \"{alphabet_array[index]}\".')"
   ]
  },
  {
   "cell_type": "code",
   "execution_count": null,
   "metadata": {},
   "outputs": [],
   "source": []
  }
 ]
}